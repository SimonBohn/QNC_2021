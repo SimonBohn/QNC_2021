{
 "cells": [
  {
   "cell_type": "code",
   "execution_count": 82,
   "metadata": {},
   "outputs": [],
   "source": [
    "#Load in data from matlab mat file and put it in a pandas array\n",
    "import scipy.io as sio\n",
    "import pandas as pd\n",
    "import numpy as np\n",
    "import matplotlib.pyplot as plt\n",
    "data = sio.loadmat('c_yperformance.mat')\n",
    "x_values = sio.loadmat('xaxis.mat')\n",
    "performance = data['C_YPerformance']\n",
    "x_axis_array = x_values['C_XaxisRSIplot']\n",
    "#Remove duplicate rows from this array\n",
    "x_axis = x_axis_array[1]"
   ]
  },
  {
   "cell_type": "code",
   "execution_count": 83,
   "metadata": {},
   "outputs": [],
   "source": [
    "#Transform probabilities back into counts for \"number of successes\". This is not my data, and I don't have access to the original source so I am estimating some of it (only for the hypothesis figure)\n",
    "#In this dataset, trials types occured at different rates. The first and last column (RSI 1 and RSI 0) occured most often. The middle columns each had 80 trials out of a total 1500; I am estimating 500 each for the 1 and 0 positions. \n",
    "performance[:,0] = performance[:,0]*500\n",
    "performance[:,1:6] = performance[:,1:6]*80\n",
    "performance[:,6] = performance [:,6]*500\n",
    "\n",
    "performance_fall = performance[0:7,:]\n",
    "performance_spring = performance[8:11,:]"
   ]
  },
  {
   "cell_type": "code",
   "execution_count": 84,
   "metadata": {},
   "outputs": [],
   "source": [
    "fall_performance_sum = np.sum(performance_fall,0)\n",
    "spring_performance_sum = np.sum(performance_spring,0)\n",
    "fall_total_trials = [3500,560,560,560,560,560,3500]\n",
    "spring_total_trials = [1500,240,240,240,240,240,1500]"
   ]
  },
  {
   "cell_type": "code",
   "execution_count": 85,
   "metadata": {},
   "outputs": [
    {
     "data": {
      "text/plain": [
       "array([1432.58774308,  135.66137566,  102.16296296,   32.72141707,\n",
       "         11.87724868,    5.71428571,   17.55892809])"
      ]
     },
     "execution_count": 85,
     "metadata": {},
     "output_type": "execute_result"
    }
   ],
   "source": [
    "spring_performance_sum"
   ]
  },
  {
   "cell_type": "code",
   "execution_count": 86,
   "metadata": {},
   "outputs": [
    {
     "data": {
      "text/plain": [
       "array([3357.24220386,  243.52899527,  125.24427223,   93.16199929,\n",
       "         37.14309347,   44.36465018,   48.81218789])"
      ]
     },
     "execution_count": 86,
     "metadata": {},
     "output_type": "execute_result"
    }
   ],
   "source": [
    "fall_performance_sum"
   ]
  },
  {
   "cell_type": "code",
   "execution_count": 87,
   "metadata": {},
   "outputs": [],
   "source": [
    "import astropy.stats as aps"
   ]
  },
  {
   "cell_type": "code",
   "execution_count": 89,
   "metadata": {},
   "outputs": [],
   "source": [
    "spring_CIs = aps.binom_conf_interval(spring_performance_sum,spring_total_trials,.95,'wilson')\n",
    "fall_CIs = aps.binom_conf_interval(fall_performance_sum,fall_total_trials,.95,'wilson')"
   ]
  },
  {
   "cell_type": "code",
   "execution_count": 90,
   "metadata": {},
   "outputs": [
    {
     "data": {
      "text/plain": [
       "array([[0.95206549, 0.39346767, 0.19067821, 0.13754516, 0.048312  ,\n",
       "        0.05904861, 0.01035978],\n",
       "       [0.96521345, 0.47528977, 0.25952185, 0.19914781, 0.08974357,\n",
       "        0.10383664, 0.01813507]])"
      ]
     },
     "execution_count": 90,
     "metadata": {},
     "output_type": "execute_result"
    }
   ],
   "source": [
    "fall_CIs"
   ]
  },
  {
   "cell_type": "code",
   "execution_count": 100,
   "metadata": {},
   "outputs": [
    {
     "data": {
      "image/png": "[encoded data removed]",
      "text/plain": [
       "<Figure size 432x288 with 1 Axes>"
      ]
     },
     "metadata": {
      "needs_background": "light"
     },
     "output_type": "display_data"
    }
   ],
   "source": [
    "plt.plot(x_axis,fall_performance_sum/fall_total_trials)\n",
    "plt.plot(x_axis,spring_performance_sum/spring_total_trials)\n",
    "plt.fill_between(x_axis,fall_CIs[0],fall_CIs[1],alpha=.2)\n",
    "plt.fill_between(x_axis,spring_CIs[0],spring_CIs[1],alpha=.2)\n",
    "plt.legend(['Spring','Fall'])\n",
    "plt.gca().invert_xaxis()\n"
   ]
  },
  {
   "cell_type": "code",
   "execution_count": 93,
   "metadata": {},
   "outputs": [
    {
     "data": {
      "text/plain": [
       "array([0.96521345, 0.47528977, 0.25952185, 0.19914781, 0.08974357,\n",
       "       0.10383664, 0.01813507])"
      ]
     },
     "execution_count": 93,
     "metadata": {},
     "output_type": "execute_result"
    }
   ],
   "source": [
    "fall_CIs[1]"
   ]
  },
  {
   "cell_type": "code",
   "execution_count": null,
   "metadata": {},
   "outputs": [],
   "source": []
  }
 ],
 "metadata": {
  "kernelspec": {
   "display_name": "Python 3",
   "language": "python",
   "name": "python3"
  },
  "language_info": {
   "codemirror_mode": {
    "name": "ipython",
    "version": 3
   },
   "file_extension": ".py",
   "mimetype": "text/x-python",
   "name": "python",
   "nbconvert_exporter": "python",
   "pygments_lexer": "ipython3",
   "version": "3.7.6"
  }
 },
 "nbformat": 4,
 "nbformat_minor": 4
}
